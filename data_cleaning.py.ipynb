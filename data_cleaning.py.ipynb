{
 "cells": [
  {
   "cell_type": "code",
   "execution_count": 1,
   "metadata": {},
   "outputs": [],
   "source": [
    "# We are importing the pandas library and reading a CSV file into a DataFrame.\n",
    "\n",
    "import pandas as pd\n",
    "input_file = 'D:\\\\Omnify\\\\DataSet.csv'\n",
    "df = pd.read_csv(input_file) \n",
    "#print(df.head())"
   ]
  },
  {
   "cell_type": "code",
   "execution_count": 2,
   "metadata": {},
   "outputs": [],
   "source": [
    "# Convert Booking Date to datetime format\n",
    "df[\"Booking Date\"] = pd.to_datetime(df[\"Booking Date\"], format=\"%d-%m-%Y\", errors=\"coerce\")"
   ]
  },
  {
   "cell_type": "code",
   "execution_count": 3,
   "metadata": {},
   "outputs": [],
   "source": [
    "# Dropping Subscription Type column as it is entirely null\n",
    "df.drop(columns=[\"Subscription Type\"], inplace=True)"
   ]
  },
  {
   "cell_type": "markdown",
   "metadata": {},
   "source": [
    "HANDLING MISSING VALUES"
   ]
  },
  {
   "cell_type": "code",
   "execution_count": 4,
   "metadata": {},
   "outputs": [],
   "source": [
    "# Replace missing values in \"Class Type\" with \"Unknown\"\n",
    "df[\"Class Type\"] = df[\"Class Type\"].fillna(\"Unknown\") "
   ]
  },
  {
   "cell_type": "code",
   "execution_count": 5,
   "metadata": {},
   "outputs": [],
   "source": [
    "# Replace missing values in \"Instructor\" with \"Not Assigned\"\n",
    "df[\"Instructor\"] = df[\"Instructor\"].fillna(\"Not Assigned\")  "
   ]
  },
  {
   "cell_type": "code",
   "execution_count": 6,
   "metadata": {},
   "outputs": [],
   "source": [
    " # Replace missing values in \"Time Slot\" with \"Not Provided\"\n",
    "df[\"Time Slot\"] = df[\"Time Slot\"].fillna(\"Not Provided\") "
   ]
  },
  {
   "cell_type": "code",
   "execution_count": 7,
   "metadata": {},
   "outputs": [],
   "source": [
    "# Replace missing values in \"Duration (mins)\" with the median duration\n",
    "df[\"Duration (mins)\"] = df[\"Duration (mins)\"].fillna(df[\"Duration (mins)\"].median())  \n"
   ]
  },
  {
   "cell_type": "code",
   "execution_count": 8,
   "metadata": {},
   "outputs": [],
   "source": [
    "# Replace missing values in \"Facility\" with \"Not Specified\"\n",
    "df[\"Facility\"] = df[\"Facility\"].fillna(\"Not Specified\") \n"
   ]
  },
  {
   "cell_type": "code",
   "execution_count": 9,
   "metadata": {},
   "outputs": [],
   "source": [
    "# Replace missing values in \"Theme\" with \"Not Applicable\"\n",
    "df[\"Theme\"] = df[\"Theme\"].fillna(\"Not Applicable\") \n"
   ]
  },
  {
   "cell_type": "code",
   "execution_count": 10,
   "metadata": {},
   "outputs": [],
   "source": [
    "# Replace missing values in \"Customer Email\" with \"No Email Provided\"\n",
    "df[\"Customer Email\"] = df[\"Customer Email\"].fillna(\"No Email Provided\") \n"
   ]
  },
  {
   "cell_type": "code",
   "execution_count": 11,
   "metadata": {},
   "outputs": [],
   "source": [
    "# Replace missing values in \"Customer Phone\" with \"No Phone Provided\"\n",
    "df[\"Customer Phone\"] = df[\"Customer Phone\"].fillna(\"No Phone Provided\") \n"
   ]
  },
  {
   "cell_type": "code",
   "execution_count": 12,
   "metadata": {},
   "outputs": [],
   "source": [
    "# Ensure Price and Duration have appropriate data types\n",
    "df[\"Price\"] = df[\"Price\"].astype(float)  # Convert \"Price\" column to float\n",
    "df[\"Duration (mins)\"] = df[\"Duration (mins)\"].astype(int)  # Convert \"Duration (mins)\" column to integer\n"
   ]
  },
  {
   "cell_type": "code",
   "execution_count": 13,
   "metadata": {},
   "outputs": [
    {
     "name": "stdout",
     "output_type": "stream",
     "text": [
      "<class 'pandas.core.frame.DataFrame'>\n",
      "RangeIndex: 1000 entries, 0 to 999\n",
      "Data columns (total 17 columns):\n",
      " #   Column           Non-Null Count  Dtype         \n",
      "---  ------           --------------  -----         \n",
      " 0   Booking ID       1000 non-null   object        \n",
      " 1   Customer ID      1000 non-null   object        \n",
      " 2   Customer Name    1000 non-null   object        \n",
      " 3   Booking Type     1000 non-null   object        \n",
      " 4   Booking Date     1000 non-null   datetime64[ns]\n",
      " 5   Status           1000 non-null   object        \n",
      " 6   Class Type       1000 non-null   object        \n",
      " 7   Instructor       1000 non-null   object        \n",
      " 8   Time Slot        1000 non-null   object        \n",
      " 9   Duration (mins)  1000 non-null   int64         \n",
      " 10  Price            1000 non-null   float64       \n",
      " 11  Facility         1000 non-null   object        \n",
      " 12  Theme            1000 non-null   object        \n",
      " 13  Service Name     1000 non-null   object        \n",
      " 14  Service Type     1000 non-null   object        \n",
      " 15  Customer Email   1000 non-null   object        \n",
      " 16  Customer Phone   1000 non-null   object        \n",
      "dtypes: datetime64[ns](1), float64(1), int64(1), object(14)\n",
      "memory usage: 132.9+ KB\n"
     ]
    },
    {
     "data": {
      "text/plain": [
       "(None,\n",
       "                              Booking ID                           Customer ID  \\\n",
       " 0  279d92c6-ce26-47c0-8915-e45b77fe20e2  00901ce3-3d86-4c97-bca2-40ccac2fb99f   \n",
       " 1  415bfcbe-1a2e-4d4b-809a-4c5b606653b1  b82db986-bd52-4b07-bdd8-aa8cf2016241   \n",
       " 2  2100024b-46fc-47b5-ac1c-047d007a4723  6bbb6e83-9577-4f64-80b0-f073132d18f3   \n",
       " 3  74936def-088f-4d34-bad1-dfa76f78b704  f16f5beb-6a7d-4493-a19e-a30dbbd206e9   \n",
       " 4  6272b4e7-a508-4ed7-bae0-21f7293287a8  eb297435-93d1-4e65-8dd4-6450922305cb   \n",
       " \n",
       "   Customer Name    Booking Type Booking Date     Status Class Type  \\\n",
       " 0    Customer 1        Facility   2025-05-30    Pending    Unknown   \n",
       " 1    Customer 2  Birthday Party   2025-05-29    Pending    Unknown   \n",
       " 2    Customer 3  Birthday Party   2025-05-09  Confirmed    Unknown   \n",
       " 3    Customer 4  Birthday Party   2025-06-07    Pending    Unknown   \n",
       " 4    Customer 5           Class   2025-04-13    Pending        Art   \n",
       " \n",
       "      Instructor     Time Slot  Duration (mins)   Price       Facility  \\\n",
       " 0  Not Assigned         10:00               90   42.74     Party Room   \n",
       " 1  Not Assigned  Not Provided               90  182.06     Party Room   \n",
       " 2  Not Assigned         11:00              120  207.50      Play Area   \n",
       " 3  Not Assigned         12:00               90  203.20      Play Area   \n",
       " 4  Not Assigned         15:00              120  161.14  Not Specified   \n",
       " \n",
       "             Theme Service Name    Service Type         Customer Email  \\\n",
       " 0  Not Applicable   Party Room        Facility  customer1@example.com   \n",
       " 1       Superhero   Party Room  Birthday Party  customer2@example.com   \n",
       " 2  Not Applicable    Play Area        Facility  customer3@example.com   \n",
       " 3  Not Applicable    Play Area  Birthday Party  customer4@example.com   \n",
       " 4  Not Applicable          Art           Class  customer5@example.com   \n",
       " \n",
       "   Customer Phone  \n",
       " 0   001-730-9034  \n",
       " 1   001-537-5668  \n",
       " 2   001-880-7769  \n",
       " 3   001-491-3107  \n",
       " 4   001-718-3794  )"
      ]
     },
     "execution_count": 13,
     "metadata": {},
     "output_type": "execute_result"
    }
   ],
   "source": [
    "# Checking dataset after cleaning\n",
    "df.info(), df.head()\n"
   ]
  },
  {
   "cell_type": "code",
   "execution_count": null,
   "metadata": {},
   "outputs": [],
   "source": [
    "# Save cleaned data to a new CSV file\n",
    "df.to_csv(\"cleaned_data.csv\", index=False)"
   ]
  }
 ],
 "metadata": {
  "kernelspec": {
   "display_name": "Python 3",
   "language": "python",
   "name": "python3"
  },
  "language_info": {
   "codemirror_mode": {
    "name": "ipython",
    "version": 3
   },
   "file_extension": ".py",
   "mimetype": "text/x-python",
   "name": "python",
   "nbconvert_exporter": "python",
   "pygments_lexer": "ipython3",
   "version": "3.12.4"
  }
 },
 "nbformat": 4,
 "nbformat_minor": 2
}
